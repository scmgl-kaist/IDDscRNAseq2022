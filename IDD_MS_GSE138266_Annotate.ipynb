{
 "cells": [
  {
   "cell_type": "markdown",
   "metadata": {},
   "source": [
    "## Importing Modules"
   ]
  },
  {
   "cell_type": "code",
   "execution_count": null,
   "metadata": {},
   "outputs": [],
   "source": [
    "%load_ext autoreload\n",
    "%autoreload 2\n",
    "import os, sys\n",
    "sys.path.append('/home/junhokang/script')\n",
    "import scjp"
   ]
  },
  {
   "cell_type": "code",
   "execution_count": null,
   "metadata": {},
   "outputs": [],
   "source": [
    "# useful imports\n",
    "import numpy as np\n",
    "import scipy as scipy\n",
    "import scanpy as sc\n",
    "import scanpy.external as sce\n",
    "import pandas as pd\n",
    "pd.set_option('display.max_rows', 40)\n",
    "pd.set_option('display.max_columns', None)\n",
    "import pickle as pkl\n",
    "import matplotlib.pyplot as plt\n",
    "plt.rcParams['figure.figsize'] = [10,8]\n",
    "import seaborn as sns\n",
    "from collections import defaultdict, Counter\n",
    "import networkx as nx\n",
    "import igraph, re, glob\n",
    "from bbknn import bbknn\n",
    "from geosketch import gs\n",
    "import scrublet as scr\n",
    "import joblib as jl\n",
    "from datetime import datetime\n",
    "def timestamp():\n",
    "    return datetime.now().strftime(\"%y%m%d%H%M\")\n",
    "import logging\n",
    "import scipy.stats\n",
    "import diffxpy.api as de\n",
    "from SCCAF import *\n",
    "import gseapy"
   ]
  },
  {
   "cell_type": "code",
   "execution_count": null,
   "metadata": {},
   "outputs": [],
   "source": [
    "# setting scanpy\n",
    "%matplotlib inline\n",
    "sc.settings.verbosity = 3\n",
    "sc.settings.set_figure_params(dpi=100, color_map='OrRd')\n",
    "sc.logging.print_version_and_date()"
   ]
  },
  {
   "cell_type": "code",
   "execution_count": null,
   "metadata": {},
   "outputs": [],
   "source": [
    "nb_name = 'MOG15.v04.ms_GSE138266_Annotate_Submit_220121'\n",
    "version = '.'.join(nb_name.split('.')[:2])+'.'\n",
    "data = '_'.join(nb_name.split('.')[-1:][0].split('_')[:-2])\n",
    "print('Version:', version)\n",
    "print('Data:', data)"
   ]
  },
  {
   "cell_type": "code",
   "execution_count": null,
   "metadata": {},
   "outputs": [],
   "source": [
    "base_folder = '/home/junhokang/projects/02_mogad_new/'"
   ]
  },
  {
   "cell_type": "markdown",
   "metadata": {},
   "source": [
    "## Loading Adata"
   ]
  },
  {
   "cell_type": "code",
   "execution_count": null,
   "metadata": {},
   "outputs": [],
   "source": [
    "adata = sc.read('/home/junhokang/projects/02_mogad_new/99_script/write/MOG10.v01.ms_GSE138266_sccaf2.h5ad')"
   ]
  },
  {
   "cell_type": "code",
   "execution_count": null,
   "metadata": {},
   "outputs": [],
   "source": [
    "adata.obs"
   ]
  },
  {
   "cell_type": "code",
   "execution_count": null,
   "metadata": {},
   "outputs": [],
   "source": [
    "adata.obs = adata.obs[remain]"
   ]
  },
  {
   "cell_type": "markdown",
   "metadata": {},
   "source": [
    "## QC check"
   ]
  },
  {
   "cell_type": "code",
   "execution_count": null,
   "metadata": {},
   "outputs": [],
   "source": [
    "sc.pl.scatter(adata, x='n_counts', y='mito')\n",
    "sc.pl.scatter(adata, x='n_counts', y='n_genes')"
   ]
  },
  {
   "cell_type": "code",
   "execution_count": null,
   "metadata": {},
   "outputs": [],
   "source": [
    "scjp.us(adata,'anno_sccaf')"
   ]
  },
  {
   "cell_type": "code",
   "execution_count": null,
   "metadata": {},
   "outputs": [],
   "source": [
    "scjp.us(adata,'Sample')"
   ]
  },
  {
   "cell_type": "markdown",
   "metadata": {},
   "source": [
    "## re-Annotate 10X 3' dataset using SCCAF"
   ]
  },
  {
   "cell_type": "code",
   "execution_count": null,
   "metadata": {},
   "outputs": [],
   "source": [
    "sc.tl.leiden(adata,resolution=0.3)"
   ]
  },
  {
   "cell_type": "code",
   "execution_count": null,
   "metadata": {},
   "outputs": [],
   "source": [
    "scjp.us(adata,'leiden',legend_loc='on data',legend_fontsize=6)"
   ]
  },
  {
   "cell_type": "code",
   "execution_count": null,
   "metadata": {},
   "outputs": [],
   "source": [
    "scjp.us(adata,'leiden',groups='7')"
   ]
  },
  {
   "cell_type": "code",
   "execution_count": null,
   "metadata": {},
   "outputs": [],
   "source": [
    "scjp.us(adata,'anno_sccaf',legend_loc='on data',legend_fontsize=6)"
   ]
  },
  {
   "cell_type": "code",
   "execution_count": null,
   "metadata": {},
   "outputs": [],
   "source": [
    "scjp.us(adata,'mito,n_genes')"
   ]
  },
  {
   "cell_type": "code",
   "execution_count": null,
   "metadata": {},
   "outputs": [],
   "source": [
    "scjp.us(adata,'CD4,CD8B,NKG7,KLRB1,IL18R1,FOXP3,CCL5,MS4A1,LYZ,CD74,S100A8')"
   ]
  },
  {
   "cell_type": "code",
   "execution_count": null,
   "metadata": {},
   "outputs": [],
   "source": [
    "# T_pan\n",
    "scjp.us(adata,'CD3D,CD3E,LCK,TRAC')"
   ]
  },
  {
   "cell_type": "code",
   "execution_count": null,
   "metadata": {},
   "outputs": [],
   "source": [
    "#NK_pan\n",
    "scjp.us(adata,'GNLY,NKG7,NCAM1,KLRD1,NCR1,NCAM1')"
   ]
  },
  {
   "cell_type": "code",
   "execution_count": null,
   "metadata": {},
   "outputs": [],
   "source": [
    "#NK1_CD16\n",
    "scjp.us(adata,'FCGR3A,PRF1')"
   ]
  },
  {
   "cell_type": "code",
   "execution_count": null,
   "metadata": {},
   "outputs": [],
   "source": [
    "#NK2_XCL1\n",
    "scjp.us(adata,'SELL,XCL1')"
   ]
  },
  {
   "cell_type": "code",
   "execution_count": null,
   "metadata": {},
   "outputs": [],
   "source": [
    "#B_pan\n",
    "scjp.us(adata,'MS4A1,CD19,CD74,CD79A')"
   ]
  },
  {
   "cell_type": "code",
   "execution_count": null,
   "metadata": {},
   "outputs": [],
   "source": [
    "#B_naive\n",
    "scjp.us(adata,'CD37,IGHD')"
   ]
  },
  {
   "cell_type": "code",
   "execution_count": null,
   "metadata": {},
   "outputs": [],
   "source": [
    "#B_memory\n",
    "scjp.us(adata,'CD27,IGHM')"
   ]
  },
  {
   "cell_type": "code",
   "execution_count": null,
   "metadata": {},
   "outputs": [],
   "source": [
    "#B_plasma\n",
    "scjp.us(adata,'IGHG1,JCHAIN,CD38,TNFRSF17')"
   ]
  },
  {
   "cell_type": "code",
   "execution_count": null,
   "metadata": {},
   "outputs": [],
   "source": [
    "#Myl_pan\n",
    "scjp.us(adata,'LYZ')"
   ]
  },
  {
   "cell_type": "code",
   "execution_count": null,
   "metadata": {},
   "outputs": [],
   "source": [
    "#Myl_Mast\n",
    "scjp.us(adata,'KIT,TPSAB1,CPA3,FCGR2A,CD33,ENPP3')"
   ]
  },
  {
   "cell_type": "code",
   "execution_count": null,
   "metadata": {},
   "outputs": [],
   "source": [
    "#Hp_Mgk\n",
    "scjp.us(adata,'GNG11,CLU,ITGA2B')"
   ]
  },
  {
   "cell_type": "code",
   "execution_count": null,
   "metadata": {},
   "outputs": [],
   "source": [
    "# Hp_Ery\n",
    "scjp.us(adata,'GYPA,HBB')"
   ]
  },
  {
   "cell_type": "markdown",
   "metadata": {},
   "source": [
    "## Subclustering"
   ]
  },
  {
   "cell_type": "code",
   "execution_count": null,
   "metadata": {},
   "outputs": [],
   "source": [
    "scjp.us(adata,'anno_sccaf',legend_loc='on data',legend_fontsize=6)"
   ]
  },
  {
   "cell_type": "code",
   "execution_count": null,
   "metadata": {},
   "outputs": [],
   "source": [
    "t = [x for x in sorted(set(adata.obs['anno_final'])) if x.startswith('T_')]\n",
    "t.append('LQ_T')"
   ]
  },
  {
   "cell_type": "code",
   "execution_count": null,
   "metadata": {},
   "outputs": [],
   "source": [
    "t"
   ]
  },
  {
   "cell_type": "code",
   "execution_count": null,
   "metadata": {},
   "outputs": [],
   "source": [
    "tdata = scjp.get_subset(adata,adata.obs['anno_final'].isin(t))"
   ]
  },
  {
   "cell_type": "code",
   "execution_count": null,
   "metadata": {},
   "outputs": [],
   "source": [
    "scjp.run_harmony(tdata,'PatientID')"
   ]
  },
  {
   "cell_type": "code",
   "execution_count": null,
   "metadata": {},
   "outputs": [],
   "source": [
    "scjp.us(tdata,'anno_final')"
   ]
  },
  {
   "cell_type": "code",
   "execution_count": null,
   "metadata": {},
   "outputs": [],
   "source": [
    "scjp.us(tdata,'anno_final',groups='LQ_T')"
   ]
  },
  {
   "cell_type": "code",
   "execution_count": null,
   "metadata": {},
   "outputs": [],
   "source": [
    "sc.tl.leiden(tdata, resolution=2.0, key_added='L2_Round0')"
   ]
  },
  {
   "cell_type": "code",
   "execution_count": null,
   "metadata": {},
   "outputs": [],
   "source": [
    "SCCAF_optimize_all(ad=tdata,min_acc=0.90, start='L2_Round0',prefix='L2',use='pca',basis='umap',c_iter=4)"
   ]
  },
  {
   "cell_type": "code",
   "execution_count": null,
   "metadata": {},
   "outputs": [],
   "source": [
    "scjp.us(tdata,'anno_final',legend_loc='on data',legend_fontsize=6)"
   ]
  },
  {
   "cell_type": "code",
   "execution_count": null,
   "metadata": {},
   "outputs": [],
   "source": [
    "scjp.us(tdata,'anno_sccaf',legend_loc='on data',legend_fontsize=6)"
   ]
  },
  {
   "cell_type": "code",
   "execution_count": null,
   "metadata": {},
   "outputs": [],
   "source": [
    "scjp.us(tdata,'L2_Round3',legend_loc='on data',legend_fontsize=7)"
   ]
  },
  {
   "cell_type": "code",
   "execution_count": null,
   "metadata": {},
   "outputs": [],
   "source": [
    "scjp.us(tdata,'mito,n_genes')"
   ]
  },
  {
   "cell_type": "code",
   "execution_count": null,
   "metadata": {},
   "outputs": [],
   "source": [
    "scjp.us(tdata,'CD4,CD8B,NKG7,KLRB1,IL18R1,FOXP3,CCL5,MS4A1,LYZ,CD74,S100A8')"
   ]
  },
  {
   "cell_type": "code",
   "execution_count": null,
   "metadata": {},
   "outputs": [],
   "source": [
    "#Hp_Mgk\n",
    "scjp.us(tdata,'GNG11,CLU,ITGA2B')"
   ]
  },
  {
   "cell_type": "code",
   "execution_count": null,
   "metadata": {},
   "outputs": [],
   "source": [
    "# Hp_Ery\n",
    "scjp.us(tdata,'GYPA,HBB')"
   ]
  },
  {
   "cell_type": "code",
   "execution_count": null,
   "metadata": {},
   "outputs": [],
   "source": [
    "#T_CD4 pan\n",
    "scjp.us(tdata,'CD3D,CD3E,CD4,IL7R')"
   ]
  },
  {
   "cell_type": "code",
   "execution_count": null,
   "metadata": {},
   "outputs": [],
   "source": [
    "#T_REG\n",
    "scjp.us(tdata,'FOXP3,CTLA4')"
   ]
  },
  {
   "cell_type": "code",
   "execution_count": null,
   "metadata": {},
   "outputs": [],
   "source": [
    "# CD4+ Naive T\n",
    "scjp.us(tdata,'SELL,TCF7,CD4,CCR7,IL7R,FHIT,LEF1,MAL,NOSIP,LDHB,PIK3IP1')"
   ]
  },
  {
   "cell_type": "code",
   "execution_count": null,
   "metadata": {},
   "outputs": [],
   "source": [
    "CD4NAIVE='SELL,TCF7,CD4,CCR7,IL7R,FHIT,LEF1,MAL,NOSIP,LDHB,PIK3IP1'.split(',')\n",
    "sc.tl.score_genes(tdata,CD4NAIVE,score_name='CD4NAIVE')"
   ]
  },
  {
   "cell_type": "code",
   "execution_count": null,
   "metadata": {},
   "outputs": [],
   "source": [
    "scjp.us(tdata,'CD4NAIVE')"
   ]
  },
  {
   "cell_type": "code",
   "execution_count": null,
   "metadata": {},
   "outputs": [],
   "source": [
    "# CD4+ Effector Memory T\n",
    "scjp.us(tdata,'IL7R,CCL5,FYB1,GZMK,IL32,GZMA,KLRB1,TRAC,LTB,AQP3')"
   ]
  },
  {
   "cell_type": "code",
   "execution_count": null,
   "metadata": {},
   "outputs": [],
   "source": [
    "CD4TEM='IL7R,CCL5,FYB1,GZMK,IL32,GZMA,KLRB1,TRAC,LTB,AQP3'.split(',')\n",
    "sc.tl.score_genes(tdata,CD4TEM,score_name='CD4TEM')"
   ]
  },
  {
   "cell_type": "code",
   "execution_count": null,
   "metadata": {},
   "outputs": [],
   "source": [
    "scjp.us(tdata,'CD4TEM')"
   ]
  },
  {
   "cell_type": "code",
   "execution_count": null,
   "metadata": {},
   "outputs": [],
   "source": [
    "# CD4 Proliferating\n",
    "scjp.us(tdata,'MKI67,TOP2A,PCLAF,CENPF,TYMS,NUSAP1,ASPM,PTTG1,TPX2,RRM2')"
   ]
  },
  {
   "cell_type": "code",
   "execution_count": null,
   "metadata": {},
   "outputs": [],
   "source": [
    "#T_CD4 Th17_RORC\n",
    "scjp.us(tdata,'RORC,IL17A,KLRB1,IL23R,CCL20,CCR6')"
   ]
  },
  {
   "cell_type": "code",
   "execution_count": null,
   "metadata": {},
   "outputs": [],
   "source": [
    "#T_CD4 Tfh\n",
    "scjp.us(tdata,'CXCR5,CD200,CXCL13,BCL6,STAT3,MAF,PDCD1,CCR7,CXCR3,CCR6,CD40LG')"
   ]
  },
  {
   "cell_type": "code",
   "execution_count": null,
   "metadata": {},
   "outputs": [],
   "source": [
    "#T_CD8 pan\n",
    "scjp.us(tdata,'CD8A,GZMH')"
   ]
  },
  {
   "cell_type": "code",
   "execution_count": null,
   "metadata": {},
   "outputs": [],
   "source": [
    "#T_CD8 naive\n",
    "scjp.us(tdata,'CD8A,CD8B,CCR7')"
   ]
  },
  {
   "cell_type": "code",
   "execution_count": null,
   "metadata": {},
   "outputs": [],
   "source": [
    "#T_CD8 memory\n",
    "scjp.us(tdata,'CD3E,CD4,CD8B,CCL5')"
   ]
  },
  {
   "cell_type": "code",
   "execution_count": null,
   "metadata": {},
   "outputs": [],
   "source": [
    "#T_GD\n",
    "scjp.us(tdata,'TRDC,CD3D')"
   ]
  },
  {
   "cell_type": "code",
   "execution_count": null,
   "metadata": {},
   "outputs": [],
   "source": [
    "#T_NK\n",
    "scjp.us(tdata,'CD3D,CD3E,NKG7,KLRB1,ZNF683,CD8A,ZBTB16')"
   ]
  },
  {
   "cell_type": "code",
   "execution_count": null,
   "metadata": {},
   "outputs": [],
   "source": [
    "#T_MAIT\n",
    "scjp.us(tdata,'SLC4A10,KLRB1,IL18R1,CXCR6,CCR6,SATB1,TRAV1-2,ZBTB16,RORC,CCR7,TCF7')"
   ]
  },
  {
   "cell_type": "code",
   "execution_count": null,
   "metadata": {},
   "outputs": [],
   "source": [
    "#NK_pan\n",
    "scjp.us(tdata,'GNLY,NKG7,NCAM1,KLRD1,NCR1,NCAM1')"
   ]
  },
  {
   "cell_type": "code",
   "execution_count": null,
   "metadata": {},
   "outputs": [],
   "source": [
    "#NK1_CD16\n",
    "scjp.us(tdata,'FCGR3A,PRF1')"
   ]
  },
  {
   "cell_type": "code",
   "execution_count": null,
   "metadata": {},
   "outputs": [],
   "source": [
    "#NK2_XCL1\n",
    "scjp.us(tdata,'SELL,XCL1')"
   ]
  },
  {
   "cell_type": "code",
   "execution_count": null,
   "metadata": {},
   "outputs": [],
   "source": [
    "# ILC\n",
    "scjp.us(tdata,'KIT,IL1R1,TNFRSF4,TRDC,TTLL10,SOX4,TNFRSF18')"
   ]
  },
  {
   "cell_type": "code",
   "execution_count": null,
   "metadata": {},
   "outputs": [],
   "source": [
    "ILC='KIT,IL1R1,TNFRSF4,TRDC,TTLL10,SOX4,TNFRSF18'.split(',')\n",
    "sc.tl.score_genes(tdata,ILC,score_name='ILC')"
   ]
  },
  {
   "cell_type": "code",
   "execution_count": null,
   "metadata": {},
   "outputs": [],
   "source": [
    "scjp.us(tdata,'ILC')"
   ]
  },
  {
   "cell_type": "code",
   "execution_count": null,
   "metadata": {},
   "outputs": [],
   "source": [
    "sc.tl.leiden(tdata,resolution=0.3,restrict_to=('L2_Round3',['4']),key_added='sub')"
   ]
  },
  {
   "cell_type": "code",
   "execution_count": null,
   "metadata": {},
   "outputs": [],
   "source": [
    "tdata.obs['sub'] = ['_'.join(x.split(','))for x in tdata.obs['sub']]"
   ]
  },
  {
   "cell_type": "code",
   "execution_count": null,
   "metadata": {},
   "outputs": [],
   "source": [
    "scjp.us(tdata,'sub',legend_loc='on data',legend_fontsize=7)"
   ]
  },
  {
   "cell_type": "code",
   "execution_count": null,
   "metadata": {},
   "outputs": [],
   "source": [
    "ct_anno = scjp.annotater(tdata,'anno_final',old_label='anno_final')"
   ]
  },
  {
   "cell_type": "code",
   "execution_count": null,
   "metadata": {},
   "outputs": [],
   "source": [
    "m = scjp.markers.marker(tdata,'L2_Round3')\n",
    "marker = m.plot_marker()"
   ]
  },
  {
   "cell_type": "code",
   "execution_count": null,
   "metadata": {},
   "outputs": [],
   "source": [
    "ct_anno.update(tdata,'L2_Round3','0','T_CD4')\n",
    "ct_anno.update(tdata,'L2_Round3','1','T_NK')\n",
    "ct_anno.update(tdata,'L2_Round3','2','T_CD8_memory')\n",
    "ct_anno.update(tdata,'L2_Round3','3','T_CD4')\n",
    "ct_anno.update(tdata,'L2_Round3','4','T_CD4')\n",
    "ct_anno.update(tdata,'L2_Round3','5','T_CD8_naive')\n",
    "ct_anno.update(tdata,'L2_Round3','6','T_CD4')\n",
    "ct_anno.update(tdata,'L2_Round3','7','T_CD4')\n",
    "ct_anno.update(tdata,'L2_Round3','8','T_CD8_memory')\n",
    "ct_anno.update(tdata,'L2_Round3','9','T_CD4')\n",
    "ct_anno.update(tdata,'L2_Round3','10','T_CD4')\n",
    "ct_anno.update(tdata,'L2_Round3','11','T_REG')\n",
    "ct_anno.update(tdata,'L2_Round3','12','T_CD4')\n",
    "ct_anno.update(tdata,'L2_Round3','13','T_MAIT')\n",
    "ct_anno.update(tdata,'L2_Round3','14','T_CD8_memory')\n",
    "ct_anno.update(tdata,'L2_Round3','15','LQ_Myl')\n",
    "ct_anno.update(tdata,'L2_Round3','16','LQ_Myl')\n",
    "ct_anno.update(tdata,'L2_Round3','17','LQ_B')\n",
    "\n",
    "ct_anno.update(tdata,'sub','4_2','T_CD8_memory')"
   ]
  },
  {
   "cell_type": "code",
   "execution_count": null,
   "metadata": {},
   "outputs": [],
   "source": [
    "scjp.us(tdata,'anno_final',legend_loc='on data',legend_fontsize=6)"
   ]
  },
  {
   "cell_type": "code",
   "execution_count": null,
   "metadata": {},
   "outputs": [],
   "source": [
    "scjp.model.update_label(tdata,'anno_final',adata,'anno_final','anno_final',replace=True)"
   ]
  },
  {
   "cell_type": "code",
   "execution_count": null,
   "metadata": {},
   "outputs": [],
   "source": [
    "scjp.us(adata,'anno_final',legend_loc='on data',legend_fontsize=6)"
   ]
  },
  {
   "cell_type": "markdown",
   "metadata": {},
   "source": [
    "## Myeloid subsetting"
   ]
  },
  {
   "cell_type": "code",
   "execution_count": null,
   "metadata": {},
   "outputs": [],
   "source": [
    "Myl = [x for x in sorted(set(adata.obs['anno_final'])) if x.startswith('Myl_')]\n",
    "mdata = scjp.get_subset(adata,adata.obs['anno_final'].isin(Myl))"
   ]
  },
  {
   "cell_type": "code",
   "execution_count": null,
   "metadata": {},
   "outputs": [],
   "source": [
    "sce.pp.harmony_integrate(mdata,'PatientID',adjusted_basis='X_pca')\n",
    "scjp.sc_process(mdata,pid = 'ku')"
   ]
  },
  {
   "cell_type": "code",
   "execution_count": null,
   "metadata": {},
   "outputs": [],
   "source": [
    "scjp.us(mdata,'anno_final', legend_loc='on data', legend_fontsize=7)"
   ]
  },
  {
   "cell_type": "code",
   "execution_count": null,
   "metadata": {},
   "outputs": [],
   "source": [
    "sc.tl.leiden(mdata, resolution=2.0, key_added='L2_Round0')"
   ]
  },
  {
   "cell_type": "code",
   "execution_count": null,
   "metadata": {},
   "outputs": [],
   "source": [
    "SCCAF_optimize_all(ad=mdata,min_acc=0.95, start='L2_Round0',prefix='L2',use='pca',basis='umap',c_iter=4)"
   ]
  },
  {
   "cell_type": "code",
   "execution_count": null,
   "metadata": {},
   "outputs": [],
   "source": [
    "# mito, n_genes\n",
    "scjp.us(mdata,'mito,n_genes')"
   ]
  },
  {
   "cell_type": "code",
   "execution_count": null,
   "metadata": {},
   "outputs": [],
   "source": [
    "scjp.us(mdata,'L2_Round5',legend_loc='on data',legend_fontsize=6)"
   ]
  },
  {
   "cell_type": "code",
   "execution_count": null,
   "metadata": {},
   "outputs": [],
   "source": [
    "scjp.us(mdata,'mito,n_genes,CDK1')"
   ]
  },
  {
   "cell_type": "code",
   "execution_count": null,
   "metadata": {},
   "outputs": [],
   "source": [
    "scjp.us(mdata,'CD3D,CD4,CD8B,NKG7,KLRB1,IL18R1,FOXP3,CCL5,MS4A1,CD74,PI3,CXCL8,GNG11,LYZ')"
   ]
  },
  {
   "cell_type": "code",
   "execution_count": null,
   "metadata": {},
   "outputs": [],
   "source": [
    "#DC_pan\n",
    "scjp.us(mdata,'CD74,HLA-DRA')"
   ]
  },
  {
   "cell_type": "code",
   "execution_count": null,
   "metadata": {},
   "outputs": [],
   "source": [
    "#cDC1\n",
    "scjp.us(mdata,'CLEC9A,XCR1,ANPEP,FLT3,HLA-DPA1,CADM1,CAMK2D,IDO1,WDFY4,BATF3')"
   ]
  },
  {
   "cell_type": "code",
   "execution_count": null,
   "metadata": {},
   "outputs": [],
   "source": [
    "#cDC2\n",
    "scjp.us(mdata,'CD1C,FCER1A,HLA-DQA1,CLEC10A,SIRPA,HLA-DQA1')"
   ]
  },
  {
   "cell_type": "code",
   "execution_count": null,
   "metadata": {},
   "outputs": [],
   "source": [
    "#cDC3_LAMP3\n",
    "scjp.us(mdata,'LAMP3,CCR7,FSCN1,CD40')"
   ]
  },
  {
   "cell_type": "code",
   "execution_count": null,
   "metadata": {},
   "outputs": [],
   "source": [
    "#DC_CD5\n",
    "scjp.us(mdata,'AXL,SIGLEC6,ADAM33,SIGLEC1,CD22,CD5,PPP1R14A,DAB2')"
   ]
  },
  {
   "cell_type": "code",
   "execution_count": null,
   "metadata": {},
   "outputs": [],
   "source": [
    "#ACY3_DC\n",
    "scjp.us(mdata,'SYT2,ACY3,MACC1,GTF2IRD1,KIT,PIK3R6,LINC00299,TTN,PIGR,NUDT8')"
   ]
  },
  {
   "cell_type": "code",
   "execution_count": null,
   "metadata": {},
   "outputs": [],
   "source": [
    "#pDC\n",
    "scjp.us(mdata,'GZMB,IL3RA,CLEC4C,LILRA4,JCHAIN,TCF4,TNFRSF21,SERPINF1,ITM2C')"
   ]
  },
  {
   "cell_type": "code",
   "execution_count": null,
   "metadata": {},
   "outputs": [],
   "source": [
    "#Mono/Mac_pan\n",
    "scjp.us(mdata,'CD68,CD163,ITGAM')"
   ]
  },
  {
   "cell_type": "code",
   "execution_count": null,
   "metadata": {},
   "outputs": [],
   "source": [
    "#Mono_CD14\n",
    "scjp.us(mdata,'CD14,FCN1,S100A8,S100A9,CD163,EGR1')"
   ]
  },
  {
   "cell_type": "code",
   "execution_count": null,
   "metadata": {},
   "outputs": [],
   "source": [
    "#Mono_CD16\n",
    "scjp.us(mdata,'FCGR3A,LST1,LILRB2,C1QA,MAF,CSF1R')"
   ]
  },
  {
   "cell_type": "code",
   "execution_count": null,
   "metadata": {},
   "outputs": [],
   "source": [
    "#Granulocyte,CD14_mono\n",
    "scjp.us(mdata,'S100A8,S100A9')"
   ]
  },
  {
   "cell_type": "code",
   "execution_count": null,
   "metadata": {},
   "outputs": [],
   "source": [
    "#Microglia, perivascular macrophages (LYVE1), CNS border-associated macrophages(STAB1 and CH25H)\n",
    "scjp.us(mdata,'LYVE1,STAB1,CH25H,Tissue')"
   ]
  },
  {
   "cell_type": "code",
   "execution_count": null,
   "metadata": {},
   "outputs": [],
   "source": [
    "#Microglia\n",
    "scjp.us(mdata,'TMEM119,CX3CR1,TREM2,GPR34,P2RY12')"
   ]
  },
  {
   "cell_type": "code",
   "execution_count": null,
   "metadata": {},
   "outputs": [],
   "source": [
    "#Activated Microglia\n",
    "scjp.us(mdata,'CX3CR1,CD68,SIRPA,CD47,CD40,CD80,CD28')"
   ]
  },
  {
   "cell_type": "code",
   "execution_count": null,
   "metadata": {},
   "outputs": [],
   "source": [
    "#Neutrophil\n",
    "scjp.us(mdata,'PI3,CHI3L1,ITGAM,CXCL8,ANXA3,IFITM2')"
   ]
  },
  {
   "cell_type": "code",
   "execution_count": null,
   "metadata": {},
   "outputs": [],
   "source": [
    "#Mast\n",
    "scjp.us(mdata,'KIT,TPSAB1,CPA3,FCGR2A,CD33,CD63,ENPP3')"
   ]
  },
  {
   "cell_type": "code",
   "execution_count": null,
   "metadata": {},
   "outputs": [],
   "source": [
    "sc.tl.leiden(mdata,resolution=0.5,restrict_to=('L2_Round5',['8']),key_added='sub')"
   ]
  },
  {
   "cell_type": "code",
   "execution_count": null,
   "metadata": {},
   "outputs": [],
   "source": [
    "sc.tl.leiden(mdata,resolution=0.5,restrict_to=('sub',['10']),key_added='sub')"
   ]
  },
  {
   "cell_type": "code",
   "execution_count": null,
   "metadata": {},
   "outputs": [],
   "source": [
    "sc.tl.leiden(mdata,resolution=0.3,restrict_to=('sub',['15']),key_added='sub')"
   ]
  },
  {
   "cell_type": "code",
   "execution_count": null,
   "metadata": {},
   "outputs": [],
   "source": [
    "mdata.obs['sub'] = ['_'.join(x.split(','))for x in mdata.obs['sub']]"
   ]
  },
  {
   "cell_type": "code",
   "execution_count": null,
   "metadata": {},
   "outputs": [],
   "source": [
    "scjp.us(mdata,'sub',legend_loc='on data',legend_fontsize=7)"
   ]
  },
  {
   "cell_type": "code",
   "execution_count": null,
   "metadata": {},
   "outputs": [],
   "source": [
    "sc.tl.leiden(mdata,resolution=0.5)"
   ]
  },
  {
   "cell_type": "code",
   "execution_count": null,
   "metadata": {},
   "outputs": [],
   "source": [
    "scjp.us(mdata,'leiden',legend_loc='on data',legend_fontsize=7)"
   ]
  },
  {
   "cell_type": "code",
   "execution_count": null,
   "metadata": {},
   "outputs": [],
   "source": [
    "ct_anno = scjp.annotater(mdata,'anno_final',old_label='anno_final')"
   ]
  },
  {
   "cell_type": "code",
   "execution_count": null,
   "metadata": {},
   "outputs": [],
   "source": [
    "ct_anno.update(mdata,'leiden','7','LQ_T')\n",
    "ct_anno.update(mdata,'leiden','12','LQ_B')"
   ]
  },
  {
   "cell_type": "code",
   "execution_count": null,
   "metadata": {},
   "outputs": [],
   "source": [
    "ct_anno.update(mdata,'L2_Round5','0','Myl_MonoCD14')\n",
    "ct_anno.update(mdata,'L2_Round5','1','Myl_Microglia')\n",
    "ct_anno.update(mdata,'L2_Round5','2','Myl_MonoCD14')\n",
    "ct_anno.update(mdata,'L2_Round5','3','Myl_DC2')\n",
    "ct_anno.update(mdata,'L2_Round5','4','Myl_MonoCD16')\n",
    "ct_anno.update(mdata,'L2_Round5','5','LQ_T')\n",
    "ct_anno.update(mdata,'L2_Round5','6','Myl_DC2')\n",
    "ct_anno.update(mdata,'L2_Round5','7','Myl_pDC')\n",
    "ct_anno.update(mdata,'L2_Round5','8','Myl_Microglia')\n",
    "ct_anno.update(mdata,'L2_Round5','9','LQ_Doublet')\n",
    "ct_anno.update(mdata,'L2_Round5','10','Myl_DC2')\n",
    "ct_anno.update(mdata,'L2_Round5','11','Myl_Microglia')\n",
    "ct_anno.update(mdata,'L2_Round5','12','LQ_T')\n",
    "ct_anno.update(mdata,'L2_Round5','13','Myl_Microglia')\n",
    "ct_anno.update(mdata,'L2_Round5','14','Myl_DC1')\n",
    "ct_anno.update(mdata,'L2_Round5','16','LQ_B')\n",
    "ct_anno.update(mdata,'L2_Round5','17','Myl_Mast')\n",
    "ct_anno.update(mdata,'L2_Round5','18','Myl_MonoCD14')\n",
    "\n",
    "\n",
    "ct_anno.update(mdata,'sub','8_1','Myl_DC2')\n",
    "ct_anno.update(mdata,'sub','10_1','Myl_tDC')\n",
    "ct_anno.update(mdata,'sub','15_0','Myl_ACY3_DC')\n",
    "ct_anno.update(mdata,'sub','15_1','Myl_LAMP3_DC')"
   ]
  },
  {
   "cell_type": "code",
   "execution_count": null,
   "metadata": {},
   "outputs": [],
   "source": [
    "m = scjp.markers.marker(mdata,'sub')\n",
    "marker = m.plot_marker()"
   ]
  },
  {
   "cell_type": "code",
   "execution_count": null,
   "metadata": {},
   "outputs": [],
   "source": [
    "scjp.us(mdata,'anno_final',legend_loc='on data',legend_fontsize=7)"
   ]
  },
  {
   "cell_type": "code",
   "execution_count": null,
   "metadata": {},
   "outputs": [],
   "source": [
    "scjp.model.update_label(mdata,'anno_final',adata,'anno_final','anno_final',replace=True)"
   ]
  },
  {
   "cell_type": "code",
   "execution_count": null,
   "metadata": {},
   "outputs": [],
   "source": [
    "scjp.us(adata,'anno_final',legend_loc='on data',legend_fontsize=7)"
   ]
  },
  {
   "cell_type": "code",
   "execution_count": null,
   "metadata": {},
   "outputs": [],
   "source": [
    "adata.write('./write/%s%s.h5ad'%(version, 'MOG_10X3_anno_hm'))"
   ]
  },
  {
   "cell_type": "markdown",
   "metadata": {},
   "source": [
    "## B cell subsetting"
   ]
  },
  {
   "cell_type": "code",
   "execution_count": null,
   "metadata": {},
   "outputs": [],
   "source": [
    "B = [x for x in set(sorted(adata.obs['anno_final'])) if 'B_' in x]\n",
    "B.append('LQ_B')\n",
    "bdata = scjp.get_subset(adata,adata.obs['anno_final'].isin(B))"
   ]
  },
  {
   "cell_type": "code",
   "execution_count": null,
   "metadata": {},
   "outputs": [],
   "source": [
    "scjp.run_harmony(bdata,'PatientID')"
   ]
  },
  {
   "cell_type": "code",
   "execution_count": null,
   "metadata": {},
   "outputs": [],
   "source": [
    "scjp.us(bdata,'anno_sccaf', legend_loc='on data', legend_fontsize=7)"
   ]
  },
  {
   "cell_type": "code",
   "execution_count": null,
   "metadata": {},
   "outputs": [],
   "source": [
    "sc.tl.leiden(bdata, resolution=2.0, key_added='L2_Round0')"
   ]
  },
  {
   "cell_type": "code",
   "execution_count": null,
   "metadata": {},
   "outputs": [],
   "source": [
    "SCCAF_optimize_all(ad=bdata,min_acc=0.95, start='L2_Round0',prefix='L2',use='pca',basis='umap',c_iter=4)"
   ]
  },
  {
   "cell_type": "code",
   "execution_count": null,
   "metadata": {},
   "outputs": [],
   "source": [
    "# mito, n_genes\n",
    "scjp.us(bdata,'mito,n_genes')"
   ]
  },
  {
   "cell_type": "code",
   "execution_count": null,
   "metadata": {},
   "outputs": [],
   "source": [
    "scjp.us(bdata,'CD3D,CD4,CD8B,NKG7,KLRB1,IL18R1,FOXP3,CCL5,MS4A1,CD74,PI3,CXCL8,GNG11,LYZ')"
   ]
  },
  {
   "cell_type": "code",
   "execution_count": null,
   "metadata": {},
   "outputs": [],
   "source": [
    "scjp.us(bdata,'L2_Round3',legend_loc='on data',legend_fontsize=6)"
   ]
  },
  {
   "cell_type": "code",
   "execution_count": null,
   "metadata": {},
   "outputs": [],
   "source": [
    "scjp.us(bdata,'leiden',legend_loc='on data',legend_fontsize=6)"
   ]
  },
  {
   "cell_type": "code",
   "execution_count": null,
   "metadata": {},
   "outputs": [],
   "source": [
    "#B_pan\n",
    "scjp.us(bdata,'MS4A1,CD19,CD74,CD79A')"
   ]
  },
  {
   "cell_type": "code",
   "execution_count": null,
   "metadata": {},
   "outputs": [],
   "source": [
    "#B_naive\n",
    "scjp.us(bdata,'CD37,IGHD')"
   ]
  },
  {
   "cell_type": "code",
   "execution_count": null,
   "metadata": {},
   "outputs": [],
   "source": [
    "#B_memory\n",
    "scjp.us(bdata,'CD27,IGHM,CD86')"
   ]
  },
  {
   "cell_type": "code",
   "execution_count": null,
   "metadata": {},
   "outputs": [],
   "source": [
    "#B_plasma\n",
    "scjp.us(bdata,'IGHG1,JCHAIN,CD38,TNFRSF17')"
   ]
  },
  {
   "cell_type": "code",
   "execution_count": null,
   "metadata": {},
   "outputs": [],
   "source": [
    "#pDC\n",
    "scjp.us(bdata,'GZMB,IL3RA,CLEC4C,LILRA4,JCHAIN,TCF4,TNFRSF21,JCHAIN,SERPINF1,ITM2C')"
   ]
  },
  {
   "cell_type": "code",
   "execution_count": null,
   "metadata": {},
   "outputs": [],
   "source": [
    "ct_anno = scjp.annotater(bdata,'anno_final',old_label='anno_final')"
   ]
  },
  {
   "cell_type": "code",
   "execution_count": null,
   "metadata": {},
   "outputs": [],
   "source": [
    "ct_anno.update(bdata,'L2_Round3','0','B_naive')\n",
    "ct_anno.update(bdata,'L2_Round3','1','B_plasma')\n",
    "ct_anno.update(bdata,'L2_Round3','2','LQ_T')\n",
    "ct_anno.update(bdata,'L2_Round3','3','B_naive')\n",
    "ct_anno.update(bdata,'L2_Round3','4','LQ_Mgk')\n",
    "ct_anno.update(bdata,'L2_Round3','5','B_plasma')\n",
    "ct_anno.update(bdata,'L2_Round3','6','LQ_T')\n",
    "ct_anno.update(bdata,'L2_Round3','7','LQ_Myl')\n",
    "ct_anno.update(bdata,'L2_Round3','8','LQ_Myl')\n",
    "\n",
    "ct_anno.update(bdata,'L2_Round2','0','B_memory')"
   ]
  },
  {
   "cell_type": "code",
   "execution_count": null,
   "metadata": {},
   "outputs": [],
   "source": [
    "m = scjp.markers.marker(bdata,'L2_Round3')\n",
    "marker = m.plot_marker()"
   ]
  },
  {
   "cell_type": "code",
   "execution_count": null,
   "metadata": {},
   "outputs": [],
   "source": [
    "scjp.us(bdata,'anno_final',legend_loc='on data',legend_fontsize=7)"
   ]
  },
  {
   "cell_type": "code",
   "execution_count": null,
   "metadata": {},
   "outputs": [],
   "source": [
    "scjp.model.update_label(bdata,'anno_final',adata,'anno_final','anno_final',replace=True)"
   ]
  },
  {
   "cell_type": "code",
   "execution_count": null,
   "metadata": {},
   "outputs": [],
   "source": [
    "scjp.us(adata,'anno_final',legend_loc='on data',legend_fontsize=6)"
   ]
  },
  {
   "cell_type": "code",
   "execution_count": null,
   "metadata": {},
   "outputs": [],
   "source": [
    "adata.write('./write/%s%s.h5ad'%(version, 'MS_public_anno_bef_db_remov'))"
   ]
  },
  {
   "cell_type": "code",
   "execution_count": null,
   "metadata": {},
   "outputs": [],
   "source": [
    "lq = [x for x in sorted(set(adata.obs['anno_final'])) if 'LQ_' in x]"
   ]
  },
  {
   "cell_type": "code",
   "execution_count": null,
   "metadata": {},
   "outputs": [],
   "source": [
    "lq"
   ]
  },
  {
   "cell_type": "code",
   "execution_count": null,
   "metadata": {},
   "outputs": [],
   "source": [
    "bdata = adata.copy()"
   ]
  },
  {
   "cell_type": "code",
   "execution_count": null,
   "metadata": {},
   "outputs": [],
   "source": [
    "adata = adata[~adata.obs['anno_final'].isin(lq)]"
   ]
  },
  {
   "cell_type": "code",
   "execution_count": null,
   "metadata": {},
   "outputs": [],
   "source": [
    "scjp.us(adata,'anno_final',legend_loc='on data',legend_fontsize=6)"
   ]
  },
  {
   "cell_type": "code",
   "execution_count": null,
   "metadata": {},
   "outputs": [],
   "source": [
    "adata"
   ]
  },
  {
   "cell_type": "code",
   "execution_count": null,
   "metadata": {},
   "outputs": [],
   "source": [
    "adata = adata.raw.to_adata()"
   ]
  },
  {
   "cell_type": "code",
   "execution_count": null,
   "metadata": {},
   "outputs": [],
   "source": [
    "scjp.jhk.ad_summary(adata)"
   ]
  },
  {
   "cell_type": "code",
   "execution_count": null,
   "metadata": {},
   "outputs": [],
   "source": [
    "adata.raw = adata"
   ]
  },
  {
   "cell_type": "code",
   "execution_count": null,
   "metadata": {},
   "outputs": [],
   "source": [
    "adata = scjp.remove_geneset(adata,scjp.cc_genes)"
   ]
  },
  {
   "cell_type": "code",
   "execution_count": null,
   "metadata": {},
   "outputs": [],
   "source": [
    "scjp.sc_process(adata,pid = 'fsp')"
   ]
  },
  {
   "cell_type": "code",
   "execution_count": null,
   "metadata": {},
   "outputs": [],
   "source": [
    "scjp.sc_process(adata,pid='ku')"
   ]
  },
  {
   "cell_type": "code",
   "execution_count": null,
   "metadata": {},
   "outputs": [],
   "source": [
    "scjp.us(adata,'PatientID')"
   ]
  },
  {
   "cell_type": "code",
   "execution_count": null,
   "metadata": {},
   "outputs": [],
   "source": [
    "adata.obsm['X_umap_original'] = adata.obsm['X_umap']"
   ]
  },
  {
   "cell_type": "markdown",
   "metadata": {},
   "source": [
    "## Harmony"
   ]
  },
  {
   "cell_type": "code",
   "execution_count": null,
   "metadata": {},
   "outputs": [],
   "source": [
    "sce.pp.harmony_integrate(adata,'PatientID',adjusted_basis='X_pca')\n",
    "scjp.sc_process(adata,pid = 'ku')"
   ]
  },
  {
   "cell_type": "code",
   "execution_count": null,
   "metadata": {},
   "outputs": [],
   "source": [
    "scjp.us(adata,'PatientID')"
   ]
  },
  {
   "cell_type": "code",
   "execution_count": null,
   "metadata": {},
   "outputs": [],
   "source": [
    "sc.tl.leiden(adata,resolution=0.7)"
   ]
  },
  {
   "cell_type": "code",
   "execution_count": null,
   "metadata": {},
   "outputs": [],
   "source": [
    "scjp.us(adata,'anno_final',legend_loc='on data',legend_fontsize=6)"
   ]
  },
  {
   "cell_type": "code",
   "execution_count": null,
   "metadata": {},
   "outputs": [],
   "source": [
    "scjp.us(adata,'anno_final')"
   ]
  },
  {
   "cell_type": "code",
   "execution_count": null,
   "metadata": {},
   "outputs": [],
   "source": [
    "scjp.us(adata,'leiden',legend_loc='on data',legend_fontsize=6)"
   ]
  },
  {
   "cell_type": "code",
   "execution_count": null,
   "metadata": {},
   "outputs": [],
   "source": [
    "#Microglia\n",
    "scjp.us(adata,'TMEM119,CX3CR1,TREM2,GPR34,P2RY12')"
   ]
  },
  {
   "cell_type": "code",
   "execution_count": null,
   "metadata": {},
   "outputs": [],
   "source": [
    "ct_anno = scjp.annotater(adata,'anno_final',old_label='anno_final')"
   ]
  },
  {
   "cell_type": "code",
   "execution_count": null,
   "metadata": {},
   "outputs": [],
   "source": [
    "ct_anno.update(adata,'leiden','9','Myl_Microglia')"
   ]
  },
  {
   "cell_type": "code",
   "execution_count": null,
   "metadata": {},
   "outputs": [],
   "source": [
    "adata.write('./write/%s%s.h5ad'%(version, 'MS_public_anno_db_remov'))"
   ]
  },
  {
   "cell_type": "code",
   "execution_count": null,
   "metadata": {},
   "outputs": [],
   "source": []
  }
 ],
 "metadata": {
  "kernelspec": {
   "display_name": "jp24",
   "language": "python",
   "name": "jp24"
  },
  "language_info": {
   "codemirror_mode": {
    "name": "ipython",
    "version": 3
   },
   "file_extension": ".py",
   "mimetype": "text/x-python",
   "name": "python",
   "nbconvert_exporter": "python",
   "pygments_lexer": "ipython3",
   "version": "3.8.5"
  }
 },
 "nbformat": 4,
 "nbformat_minor": 4
}
